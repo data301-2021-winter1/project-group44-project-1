{
 "cells": [
  {
   "cell_type": "markdown",
   "source": [
    "# Qihao Hu"
   ],
   "metadata": {}
  },
  {
   "cell_type": "markdown",
   "source": [
    "## Research question/interests\r\n",
    "\r\n",
    "We want to find out in which way did the COVID-19 pandemic impacted Canadian economy by using the data of Canadian financial market for the past several years and comparing this year's status to the past history "
   ],
   "metadata": {}
  }
 ],
 "metadata": {
  "orig_nbformat": 4,
  "language_info": {
   "name": "plaintext"
  }
 },
 "nbformat": 4,
 "nbformat_minor": 2
}
